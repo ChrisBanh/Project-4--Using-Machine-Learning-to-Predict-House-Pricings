{
 "cells": [
  {
   "cell_type": "code",
   "execution_count": 1,
   "metadata": {},
   "outputs": [],
   "source": [
    "import pandas as pd\n",
    "import glob"
   ]
  },
  {
   "cell_type": "code",
   "execution_count": 2,
   "metadata": {},
   "outputs": [
    {
     "data": {
      "text/plain": [
       "['./Data\\\\Melbourne_housing_FULL - bedroom.csv',\n",
       " './Data\\\\Melbourne_housing_FULL - Copy (2).csv',\n",
       " './Data\\\\Melbourne_housing_FULL - Copy (3).csv',\n",
       " './Data\\\\Melbourne_housing_FULL-original.csv',\n",
       " './Data\\\\Melbourne_housing_FULL-price.csv',\n",
       " './Data\\\\Melbourne_housing_FULL-roomlisted.csv']"
      ]
     },
     "execution_count": 2,
     "metadata": {},
     "output_type": "execute_result"
    }
   ],
   "source": [
    "dfs=glob.glob(\"./Data/*.csv\")\n",
    "dfs"
   ]
  },
  {
   "cell_type": "code",
   "execution_count": 7,
   "metadata": {},
   "outputs": [
    {
     "name": "stdout",
     "output_type": "stream",
     "text": [
      "Index(['Suburb', 'Address', 'Rooms', 'Type', 'Price', 'Method', 'SellerG',\n",
      "       'Date', 'Distance', 'Postcode', 'Bedroom2', 'Bathroom', 'Car',\n",
      "       'Landsize', 'BuildingArea', 'YearBuilt', 'CouncilArea', 'Lattitude',\n",
      "       'Longtitude', 'Regionname', 'Propertycount'],\n",
      "      dtype='object')\n"
     ]
    }
   ],
   "source": [
    "df=pd.read_csv(\"./Data/Melbourne_housing_FULL-original.csv\")\n",
    "print(df.columns)"
   ]
  },
  {
   "cell_type": "code",
   "execution_count": 9,
   "metadata": {},
   "outputs": [],
   "source": [
    "#remove all nulls\n",
    "columns_to_clean=['Rooms','Price',\"Bedroom2\",\"Lattitude\",\"Longtitude\"]\n",
    "cleaned_df=df.dropna(subset=columns_to_clean)\n",
    "file_name=\".\\cleaned_data/\"+f\"Melbourne_housing_cleaned_{'+'.join(columns_to_clean)}.csv\"\n",
    "cleaned_df.to_csv(file_name,index=True)"
   ]
  },
  {
   "cell_type": "code",
   "execution_count": 10,
   "metadata": {},
   "outputs": [],
   "source": [
    "#remove nulls for rooms\n",
    "columns_to_clean=['Rooms']\n",
    "cleaned_df=df.dropna(subset=columns_to_clean)\n",
    "file_name=\".\\cleaned_data/\"+f\"Melbourne_housing_cleaned_{'+'.join(columns_to_clean)}.csv\"\n",
    "cleaned_df.to_csv(file_name,index=True)"
   ]
  },
  {
   "cell_type": "code",
   "execution_count": 11,
   "metadata": {},
   "outputs": [],
   "source": [
    "#remove nulls for price\n",
    "columns_to_clean=['Price']\n",
    "cleaned_df=df.dropna(subset=columns_to_clean)\n",
    "file_name=\".\\cleaned_data/\"+f\"Melbourne_housing_cleaned_{'+'.join(columns_to_clean)}.csv\"\n",
    "cleaned_df.to_csv(file_name,index=True)"
   ]
  },
  {
   "cell_type": "code",
   "execution_count": 12,
   "metadata": {},
   "outputs": [],
   "source": [
    "#remove nulls for Bedroom2\n",
    "columns_to_clean=[\"Bedroom2\"]\n",
    "cleaned_df=df.dropna(subset=columns_to_clean)\n",
    "file_name=\".\\cleaned_data/\"+f\"Melbourne_housing_cleaned_{'+'.join(columns_to_clean)}.csv\"\n",
    "cleaned_df.to_csv(file_name,index=True)"
   ]
  },
  {
   "cell_type": "code",
   "execution_count": 13,
   "metadata": {},
   "outputs": [],
   "source": [
    "#remove nulls for Lattitude, Longtitude\n",
    "columns_to_clean=[\"Lattitude\",\"Longtitude\"]\n",
    "cleaned_df=df.dropna(subset=columns_to_clean)\n",
    "file_name=\".\\cleaned_data/\"+f\"Melbourne_housing_cleaned_{'+'.join(columns_to_clean)}.csv\"\n",
    "cleaned_df.to_csv(file_name,index=True)"
   ]
  }
 ],
 "metadata": {
  "kernelspec": {
   "display_name": "base",
   "language": "python",
   "name": "python3"
  },
  "language_info": {
   "codemirror_mode": {
    "name": "ipython",
    "version": 3
   },
   "file_extension": ".py",
   "mimetype": "text/x-python",
   "name": "python",
   "nbconvert_exporter": "python",
   "pygments_lexer": "ipython3",
   "version": "3.9.13"
  },
  "orig_nbformat": 4
 },
 "nbformat": 4,
 "nbformat_minor": 2
}
